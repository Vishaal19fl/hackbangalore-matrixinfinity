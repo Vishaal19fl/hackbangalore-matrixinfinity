{
 "cells": [
  {
   "cell_type": "code",
   "execution_count": 17,
   "id": "f0ab720b",
   "metadata": {},
   "outputs": [],
   "source": [
    "project_tags = [\n",
    "    [\"ui/ux\", \"frontend\", \"backend\"],\n",
    "    [\"3D modeling\", \"game development\", \"Story Writing\"]\n",
    "]\n",
    "\n",
    "freelancers = [\n",
    "    {\"name\": \"John\", \"skills\": \"ui/ux, frontend\", \"rating\": 4.5},\n",
    "    {\"name\": \"doe\", \"skills\": \"frontend\", \"rating\": 4.8},\n",
    "    {\"name\": \"Emma\", \"skills\": \"backend\", \"rating\": 4.1},\n",
    "    {\"name\": \"Stone\", \"skills\": \"story writing\", \"rating\": 4.2},\n",
    "    {\"name\": \"Michael\", \"skills\": \"3d modeling\", \"rating\": 4.8},\n",
    "    {\"name\": \"Jackson\", \"skills\": \"game development\", \"rating\": 4.3}\n",
    "]"
   ]
  },
  {
   "cell_type": "code",
   "execution_count": 19,
   "id": "93eea47b",
   "metadata": {},
   "outputs": [],
   "source": [
    "def match_freelancers(project_tags, freelancers):\n",
    "    matched_freelancers = []\n",
    "    for tags in project_tags:\n",
    "        project_skills = set()\n",
    "        project_freelancers = []\n",
    "        for freelancer in freelancers:\n",
    "            skills = set(freelancer[\"skills\"].split(\", \"))\n",
    "            if any(tag.lower() in skills for tag in tags) and not project_skills.intersection(skills):\n",
    "                project_freelancers.append(freelancer)\n",
    "                project_skills.update(skills)\n",
    "        matched_freelancers.append(project_freelancers)\n",
    "    return matched_freelancers\n",
    "\n",
    "\n",
    "\n"
   ]
  },
  {
   "cell_type": "code",
   "execution_count": 20,
   "id": "2e57b121",
   "metadata": {},
   "outputs": [
    {
     "name": "stdout",
     "output_type": "stream",
     "text": [
      "Project 1:\n",
      " - John (Skills: ui/ux, frontend, Rating: 4.5)\n",
      " - Emma (Skills: backend, Rating: 4.1)\n",
      "\n",
      "Project 2:\n",
      " - Stone (Skills: story writing, Rating: 4.2)\n",
      " - Michael (Skills: 3d modeling, Rating: 4.8)\n",
      " - Jackson (Skills: game development, Rating: 4.3)\n",
      "\n"
     ]
    }
   ],
   "source": [
    "matched_freelancers = match_freelancers(project_tags, freelancers)\n",
    "for i, project in enumerate(matched_freelancers):\n",
    "    print(f\"Project {i+1}:\")\n",
    "    for freelancer in project:\n",
    "        print(f\" - {freelancer['name']} (Skills: {freelancer['skills']}, Rating: {freelancer['rating']})\")\n",
    "    print()\n"
   ]
  },
  {
   "cell_type": "code",
   "execution_count": null,
   "id": "511e3b4a",
   "metadata": {},
   "outputs": [],
   "source": []
  }
 ],
 "metadata": {
  "kernelspec": {
   "display_name": "Python 3 (ipykernel)",
   "language": "python",
   "name": "python3"
  },
  "language_info": {
   "codemirror_mode": {
    "name": "ipython",
    "version": 3
   },
   "file_extension": ".py",
   "mimetype": "text/x-python",
   "name": "python",
   "nbconvert_exporter": "python",
   "pygments_lexer": "ipython3",
   "version": "3.11.5"
  }
 },
 "nbformat": 4,
 "nbformat_minor": 5
}
