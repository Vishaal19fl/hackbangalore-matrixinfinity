{
 "cells": [
  {
   "cell_type": "code",
   "execution_count": 6,
   "id": "921fdb1c",
   "metadata": {},
   "outputs": [],
   "source": [
    "from 5.feature_extraction.text import TfidfVectorizer\n",
    "from sklearn.metrics.pairwise import cosine_similarity"
   ]
  },
  {
   "cell_type": "code",
   "execution_count": 7,
   "id": "fe61bca2",
   "metadata": {},
   "outputs": [],
   "source": [
    "project_tags = [\n",
    "    [\"html\", \"css\", \"javascript\"],\n",
    "    [\"graphic design\", \"logo design\"],\n",
    "    [\"content writing\", \"technology\", \"research\"]\n",
    "]\n",
    "\n",
    "freelancers = [\n",
    "    {\"name\": \"John\", \"skills\": \"HTML, CSS, JavaScript\", \"rating\": 4.5},\n",
    "    {\"name\": \"doe\", \"skills\": \"HTML, CSS, TypeScript\", \"rating\": 4.8},\n",
    "    {\"name\": \"Emma\", \"skills\": \"Graphic Design, Adobe Illustrator\", \"rating\": 4.1},\n",
    "    {\"name\": \"Stone\", \"skills\": \"Graphic Design, logo design\", \"rating\": 4.2},\n",
    "    {\"name\": \"Michael\", \"skills\": \"Content Writing, Technology, Research\", \"rating\": 4.8},\n",
    "    {\"name\": \"Jackson\", \"skills\": \"Content Writing, technology\", \"rating\": 4.3}\n",
    "]"
   ]
  },
  {
   "cell_type": "code",
   "execution_count": 8,
   "id": "762ccef6",
   "metadata": {},
   "outputs": [],
   "source": [
    "project_texts = [' '.join(tags) for tags in project_tags]\n",
    "freelancer_texts = [freelancer[\"skills\"] for freelancer in freelancers]"
   ]
  },
  {
   "cell_type": "code",
   "execution_count": 15,
   "id": "4d311fce",
   "metadata": {},
   "outputs": [
    {
     "data": {
      "text/plain": [
       "['HTML, CSS, JavaScript',\n",
       " 'HTML, CSS, TypeScript',\n",
       " 'Graphic Design, Adobe Illustrator',\n",
       " 'Graphic Design, logo design',\n",
       " 'Content Writing, Technology, Research',\n",
       " 'Content Writing, technology']"
      ]
     },
     "execution_count": 15,
     "metadata": {},
     "output_type": "execute_result"
    }
   ],
   "source": [
    "freelancer_texts"
   ]
  },
  {
   "cell_type": "code",
   "execution_count": 9,
   "id": "c32b02e4",
   "metadata": {},
   "outputs": [],
   "source": [
    "vectorizer = TfidfVectorizer()\n",
    "project_vectors = vectorizer.fit_transform(project_texts)\n",
    "freelancer_vectors = vectorizer.transform(freelancer_texts)"
   ]
  },
  {
   "cell_type": "code",
   "execution_count": 17,
   "id": "c7ebe486",
   "metadata": {},
   "outputs": [
    {
     "name": "stdout",
     "output_type": "stream",
     "text": [
      "  (0, 5)\t0.5773502691896257\n",
      "  (0, 1)\t0.5773502691896257\n",
      "  (0, 4)\t0.5773502691896257\n",
      "  (1, 6)\t0.4082482904638631\n",
      "  (1, 2)\t0.8164965809277261\n",
      "  (1, 3)\t0.4082482904638631\n",
      "  (2, 7)\t0.5\n",
      "  (2, 8)\t0.5\n",
      "  (2, 9)\t0.5\n",
      "  (2, 0)\t0.5\n"
     ]
    }
   ],
   "source": [
    "print(project_vectors)"
   ]
  },
  {
   "cell_type": "code",
   "execution_count": 10,
   "id": "9cb49100",
   "metadata": {},
   "outputs": [],
   "source": [
    "similarities = cosine_similarity(project_vectors, freelancer_vectors)"
   ]
  },
  {
   "cell_type": "code",
   "execution_count": 13,
   "id": "6b7ee351",
   "metadata": {},
   "outputs": [
    {
     "data": {
      "text/plain": [
       "array([[1.        , 0.81649658, 0.        , 0.        , 0.        ,\n",
       "        0.        ],\n",
       "       [0.        , 0.        , 0.8660254 , 1.        , 0.        ,\n",
       "        0.        ],\n",
       "       [0.        , 0.        , 0.        , 0.        , 1.        ,\n",
       "        0.8660254 ]])"
      ]
     },
     "execution_count": 13,
     "metadata": {},
     "output_type": "execute_result"
    }
   ],
   "source": [
    "similarities"
   ]
  },
  {
   "cell_type": "code",
   "execution_count": 11,
   "id": "3cc9f476",
   "metadata": {},
   "outputs": [],
   "source": [
    "def get_freelancers_for_project(project_index):\n",
    "    fit_freelancers = []\n",
    "    similarity_scores = similarities[project_index]\n",
    "    for freelancer_index, similarity_score in enumerate(similarity_scores):\n",
    "        if similarity_score > 0.75:  # Filter freelancers with similarity score > 0.75\n",
    "            fit_freelancers.append({\"index\": freelancer_index, \"similarity\": similarity_score, \"rating\": freelancers[freelancer_index][\"rating\"]})\n",
    "    \n",
    "    fit_freelancers.sort(key=lambda x: x[\"rating\"], reverse=True)\n",
    "    return fit_freelancers"
   ]
  },
  {
   "cell_type": "code",
   "execution_count": 12,
   "id": "ecedcd74",
   "metadata": {},
   "outputs": [
    {
     "name": "stdout",
     "output_type": "stream",
     "text": [
      "Project: Project 1\n",
      "Project Tags: html, css, javascript\n",
      "- Freelancer: doe, Rating: 4.8, Similarity Score: 0.82\n",
      "- Freelancer: John, Rating: 4.5, Similarity Score: 1.00\n",
      "\n",
      "Project: Project 2\n",
      "Project Tags: graphic design, logo design\n",
      "- Freelancer: Stone, Rating: 4.2, Similarity Score: 1.00\n",
      "- Freelancer: Emma, Rating: 4.1, Similarity Score: 0.87\n",
      "\n",
      "Project: Project 3\n",
      "Project Tags: content writing, technology, research\n",
      "- Freelancer: Michael, Rating: 4.8, Similarity Score: 1.00\n",
      "- Freelancer: Jackson, Rating: 4.3, Similarity Score: 0.87\n",
      "\n"
     ]
    }
   ],
   "source": [
    "for i, tags in enumerate(project_tags):\n",
    "    project_name = f\"Project {i+1}\"\n",
    "    print(f\"Project: {project_name}\")\n",
    "    print(f\"Project Tags: {', '.join(tags)}\")\n",
    "    freelancers_for_project = get_freelancers_for_project(i)\n",
    "    for freelancer_info in  freelancers_for_project:\n",
    "        freelancer_name = freelancers[freelancer_info[\"index\"]][\"name\"]\n",
    "        rating = freelancer_info[\"rating\"]\n",
    "        similarity_score = freelancer_info[\"similarity\"]\n",
    "        print(f\"- Freelancer: {freelancer_name}, Rating: {rating}, Similarity Score: {similarity_score:.2f}\")\n",
    "    print()"
   ]
  }
 ],
 "metadata": {
  "kernelspec": {
   "display_name": "Python 3 (ipykernel)",
   "language": "python",
   "name": "python3"
  },
  "language_info": {
   "codemirror_mode": {
    "name": "ipython",
    "version": 3
   },
   "file_extension": ".py",
   "mimetype": "text/x-python",
   "name": "python",
   "nbconvert_exporter": "python",
   "pygments_lexer": "ipython3",
   "version": "3.11.5"
  }
 },
 "nbformat": 4,
 "nbformat_minor": 5
}
